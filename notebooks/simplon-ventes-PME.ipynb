{
 "cells": [
  {
   "cell_type": "markdown",
   "id": "5d4f1d75",
   "metadata": {},
   "source": [
    "# Imports"
   ]
  },
  {
   "cell_type": "code",
   "execution_count": 1,
   "id": "67e70b63",
   "metadata": {},
   "outputs": [],
   "source": [
    "# misc\n",
    "import os, time, sys\n",
    "import math, random\n",
    "from timeit import default_timer as timer\n",
    "import requests\n",
    "from io import StringIO\n",
    "\n",
    "# load/save files\n",
    "import requests\n",
    "import zipfile\n",
    "import csv, json, sqlite3\n",
    "import joblib\n",
    "import h5py\n",
    "\n",
    "# plot\n",
    "import matplotlib.pyplot as plt\n",
    "from matplotlib.patches import Rectangle\n",
    "from PIL import Image\n",
    "\n",
    "# datascience libs\n",
    "import numpy as np\n",
    "import pandas as pd\n",
    "\n",
    "try: # python\n",
    "    path_ = os.path.join(os.path.dirname(os.path.abspath(__file__)), \"..\")\n",
    "except NameError: # jupyter notebook\n",
    "    path_ = os.path.dirname(os.getcwd())"
   ]
  },
  {
   "cell_type": "markdown",
   "id": "9708e24c",
   "metadata": {},
   "source": [
    "# Load CSV into DataFrame"
   ]
  },
  {
   "cell_type": "markdown",
   "id": "b02642f9",
   "metadata": {},
   "source": [
    "## with local files"
   ]
  },
  {
   "cell_type": "code",
   "execution_count": 5,
   "id": "52b71692",
   "metadata": {},
   "outputs": [],
   "source": [
    "path_datasets = os.path.join(path_, \"data\")\n",
    "df_magasins = pd.read_csv(os.path.join(path_datasets, \"magasins.csv\"))\n",
    "df_produits = pd.read_csv(os.path.join(path_datasets, \"produits.csv\"))\n",
    "df_ventes = pd.read_csv(os.path.join(path_datasets, \"ventes.csv\"))\n"
   ]
  },
  {
   "cell_type": "markdown",
   "id": "87a14614",
   "metadata": {},
   "source": [
    "## with HTTP"
   ]
  },
  {
   "cell_type": "code",
   "execution_count": 7,
   "id": "d0f630ab",
   "metadata": {},
   "outputs": [],
   "source": [
    "    # from HTTP\n",
    "    res = requests.get(\"https://docs.google.com/spreadsheets/d/e/2PACX-1vSawI56WBC64foMT9pKCiY594fBZk9Lyj8_bxfgmq-8ck_jw1Z49qDeMatCWqBxehEVoM6U1zdYx73V/pub?gid=760830694&single=true&output=csv\")\n",
    "    res.encoding = \"utf-8\"\n",
    "    df_ventes = pd.read_csv(StringIO(res.text))\n",
    "\n",
    "    res = requests.get(\"https://docs.google.com/spreadsheets/d/e/2PACX-1vSawI56WBC64foMT9pKCiY594fBZk9Lyj8_bxfgmq-8ck_jw1Z49qDeMatCWqBxehEVoM6U1zdYx73V/pub?gid=0&single=true&output=csv\")\n",
    "    res.encoding = \"utf-8\"\n",
    "    df_produits = pd.read_csv(StringIO(res.text))\n",
    "\n",
    "    res = requests.get(\"https://docs.google.com/spreadsheets/d/e/2PACX-1vSawI56WBC64foMT9pKCiY594fBZk9Lyj8_bxfgmq-8ck_jw1Z49qDeMatCWqBxehEVoM6U1zdYx73V/pub?gid=714623615&single=true&output=csv\")\n",
    "    res.encoding = \"utf-8\"\n",
    "    df_magasins = pd.read_csv(StringIO(res.text))"
   ]
  },
  {
   "cell_type": "code",
   "execution_count": 8,
   "id": "d15c1d87",
   "metadata": {},
   "outputs": [
    {
     "name": "stdout",
     "output_type": "stream",
     "text": [
      "\n",
      "magasins:\n"
     ]
    },
    {
     "data": {
      "text/html": [
       "<div>\n",
       "<style scoped>\n",
       "    .dataframe tbody tr th:only-of-type {\n",
       "        vertical-align: middle;\n",
       "    }\n",
       "\n",
       "    .dataframe tbody tr th {\n",
       "        vertical-align: top;\n",
       "    }\n",
       "\n",
       "    .dataframe thead th {\n",
       "        text-align: right;\n",
       "    }\n",
       "</style>\n",
       "<table border=\"1\" class=\"dataframe\">\n",
       "  <thead>\n",
       "    <tr style=\"text-align: right;\">\n",
       "      <th></th>\n",
       "      <th>ID Magasin</th>\n",
       "      <th>Ville</th>\n",
       "      <th>Nombre de salariés</th>\n",
       "    </tr>\n",
       "  </thead>\n",
       "  <tbody>\n",
       "    <tr>\n",
       "      <th>0</th>\n",
       "      <td>1</td>\n",
       "      <td>Paris</td>\n",
       "      <td>10</td>\n",
       "    </tr>\n",
       "    <tr>\n",
       "      <th>1</th>\n",
       "      <td>2</td>\n",
       "      <td>Marseille</td>\n",
       "      <td>5</td>\n",
       "    </tr>\n",
       "    <tr>\n",
       "      <th>2</th>\n",
       "      <td>3</td>\n",
       "      <td>Lyon</td>\n",
       "      <td>8</td>\n",
       "    </tr>\n",
       "  </tbody>\n",
       "</table>\n",
       "</div>"
      ],
      "text/plain": [
       "   ID Magasin      Ville  Nombre de salariés\n",
       "0           1      Paris                  10\n",
       "1           2  Marseille                   5\n",
       "2           3       Lyon                   8"
      ]
     },
     "metadata": {},
     "output_type": "display_data"
    },
    {
     "name": "stdout",
     "output_type": "stream",
     "text": [
      "\n",
      "produits:\n"
     ]
    },
    {
     "data": {
      "text/html": [
       "<div>\n",
       "<style scoped>\n",
       "    .dataframe tbody tr th:only-of-type {\n",
       "        vertical-align: middle;\n",
       "    }\n",
       "\n",
       "    .dataframe tbody tr th {\n",
       "        vertical-align: top;\n",
       "    }\n",
       "\n",
       "    .dataframe thead th {\n",
       "        text-align: right;\n",
       "    }\n",
       "</style>\n",
       "<table border=\"1\" class=\"dataframe\">\n",
       "  <thead>\n",
       "    <tr style=\"text-align: right;\">\n",
       "      <th></th>\n",
       "      <th>Nom</th>\n",
       "      <th>ID Référence produit</th>\n",
       "      <th>Prix</th>\n",
       "      <th>Stock</th>\n",
       "    </tr>\n",
       "  </thead>\n",
       "  <tbody>\n",
       "    <tr>\n",
       "      <th>0</th>\n",
       "      <td>Produit A</td>\n",
       "      <td>REF001</td>\n",
       "      <td>49.99</td>\n",
       "      <td>100</td>\n",
       "    </tr>\n",
       "    <tr>\n",
       "      <th>1</th>\n",
       "      <td>Produit B</td>\n",
       "      <td>REF002</td>\n",
       "      <td>19.99</td>\n",
       "      <td>50</td>\n",
       "    </tr>\n",
       "    <tr>\n",
       "      <th>2</th>\n",
       "      <td>Produit C</td>\n",
       "      <td>REF003</td>\n",
       "      <td>29.99</td>\n",
       "      <td>75</td>\n",
       "    </tr>\n",
       "  </tbody>\n",
       "</table>\n",
       "</div>"
      ],
      "text/plain": [
       "         Nom ID Référence produit   Prix  Stock\n",
       "0  Produit A               REF001  49.99    100\n",
       "1  Produit B               REF002  19.99     50\n",
       "2  Produit C               REF003  29.99     75"
      ]
     },
     "metadata": {},
     "output_type": "display_data"
    },
    {
     "name": "stdout",
     "output_type": "stream",
     "text": [
      "\n",
      "ventes:\n"
     ]
    },
    {
     "data": {
      "text/html": [
       "<div>\n",
       "<style scoped>\n",
       "    .dataframe tbody tr th:only-of-type {\n",
       "        vertical-align: middle;\n",
       "    }\n",
       "\n",
       "    .dataframe tbody tr th {\n",
       "        vertical-align: top;\n",
       "    }\n",
       "\n",
       "    .dataframe thead th {\n",
       "        text-align: right;\n",
       "    }\n",
       "</style>\n",
       "<table border=\"1\" class=\"dataframe\">\n",
       "  <thead>\n",
       "    <tr style=\"text-align: right;\">\n",
       "      <th></th>\n",
       "      <th>Date</th>\n",
       "      <th>ID Référence produit</th>\n",
       "      <th>Quantité</th>\n",
       "      <th>ID Magasin</th>\n",
       "    </tr>\n",
       "  </thead>\n",
       "  <tbody>\n",
       "    <tr>\n",
       "      <th>0</th>\n",
       "      <td>2023-05-27</td>\n",
       "      <td>REF001</td>\n",
       "      <td>5</td>\n",
       "      <td>1</td>\n",
       "    </tr>\n",
       "    <tr>\n",
       "      <th>1</th>\n",
       "      <td>2023-05-28</td>\n",
       "      <td>REF002</td>\n",
       "      <td>3</td>\n",
       "      <td>2</td>\n",
       "    </tr>\n",
       "    <tr>\n",
       "      <th>2</th>\n",
       "      <td>2023-05-29</td>\n",
       "      <td>REF003</td>\n",
       "      <td>2</td>\n",
       "      <td>1</td>\n",
       "    </tr>\n",
       "  </tbody>\n",
       "</table>\n",
       "</div>"
      ],
      "text/plain": [
       "         Date ID Référence produit  Quantité  ID Magasin\n",
       "0  2023-05-27               REF001         5           1\n",
       "1  2023-05-28               REF002         3           2\n",
       "2  2023-05-29               REF003         2           1"
      ]
     },
     "metadata": {},
     "output_type": "display_data"
    }
   ],
   "source": [
    "print(\"\\nmagasins:\")\n",
    "display(df_magasins.head(3))\n",
    "print(\"\\nproduits:\")\n",
    "display(df_produits.head(3))\n",
    "print(\"\\nventes:\")\n",
    "display(df_ventes.head(3))"
   ]
  },
  {
   "cell_type": "markdown",
   "id": "1827857f",
   "metadata": {},
   "source": [
    "# Create DB"
   ]
  },
  {
   "cell_type": "code",
   "execution_count": 111,
   "id": "4f1127f1",
   "metadata": {},
   "outputs": [],
   "source": [
    "\n",
    "def create_table(name_table, path=\"\", remove_if_exist=False):\n",
    "    path_table = os.path.join(path, name_table)\n",
    "    if os.path.exists(path_table):\n",
    "        if remove_if_exist:\n",
    "            os.remove(path_table)\n",
    "        else:\n",
    "            return\n",
    "            \n",
    "    with sqlite3.connect(path_table) as conn:\n",
    "        cursor = conn.cursor()\n",
    "    \n",
    "    # magasins\n",
    "    cursor.execute(\n",
    "        \"CREATE TABLE magasins (id INTEGER PRIMARY KEY AUTOINCREMENT, id_magasin INT, nom_ville TEXT, nombre_salaries INT)\")\n",
    "    # produits\n",
    "    cursor.execute(\n",
    "        \"CREATE TABLE produits (id INTEGER PRIMARY KEY AUTOINCREMENT, nom TEXT, id_ref_produit TEXT, prix FLOAT, stock INT)\")\n",
    "    # ventes\n",
    "    cursor.execute(\n",
    "        \"CREATE TABLE ventes (id INTEGER PRIMARY KEY AUTOINCREMENT, date DATE, id_ref_produit TEXT, quantite INT, id_magasin INT)\")\n",
    "\n",
    "    conn.commit()\n",
    "    conn.close()\n",
    "\n",
    "\n",
    "create_table(\"table.sqlite\", path_datasets, True)"
   ]
  },
  {
   "cell_type": "markdown",
   "id": "5a07a4c5",
   "metadata": {},
   "source": [
    "# Add new items (magasin)"
   ]
  },
  {
   "cell_type": "code",
   "execution_count": 121,
   "id": "becb1a47",
   "metadata": {},
   "outputs": [],
   "source": [
    "def insert_items_to_magasin(name_table, path=\"\", list_id_magasin=[], list_nom_villes=[], list_salaries=[]):\n",
    "    path_table = os.path.join(path, name_table)\n",
    "    if not os.path.exists(path_table):\n",
    "        return\n",
    "    if len(list_id_magasin) == 0:\n",
    "        return\n",
    "    \n",
    "    with sqlite3.connect(path_table) as conn:\n",
    "        cursor = conn.cursor()\n",
    "\n",
    "    for i in range(len(list_id_magasin)):\n",
    "        query = \"\"\"\n",
    "            INSERT INTO magasins (id_magasin, nom_ville, nombre_salaries)\n",
    "            SELECT\n",
    "                T.*\n",
    "            FROM\n",
    "                (SELECT {} id_magasin, '{}' nom_ville, {} nombre_salaries) T\n",
    "                    LEFT JOIN\n",
    "                magasins ON magasins.id_magasin = T.id_magasin AND magasins.nom_ville = T.nom_ville\n",
    "            WHERE\n",
    "                magasins.id_magasin is null\n",
    "            \"\"\".format(list_id_magasin[i], list_nom_villes[i], list_salaries[i])\n",
    "\n",
    "        cursor.execute(query)\n",
    "        conn.commit()\n",
    "\n",
    "    conn.close()\n",
    "    \n",
    "    \n",
    "insert_items_to_magasin(\"table.sqlite\", path_datasets,\n",
    "                        df_magasins['ID Magasin'].values.tolist(),\n",
    "                        df_magasins['Ville'].values.tolist(),\n",
    "                        df_magasins['Nombre de salariés'].values.tolist())\n"
   ]
  },
  {
   "cell_type": "markdown",
   "id": "ce9f203e",
   "metadata": {},
   "source": [
    "# Add new items (produits)"
   ]
  },
  {
   "cell_type": "code",
   "execution_count": 120,
   "id": "31510ab5",
   "metadata": {},
   "outputs": [],
   "source": [
    "def insert_items_to_produits(name_table, path=\"\", list_nom=[], list_id_ref_produit=[], list_prix=[], list_stock=[]):\n",
    "    path_table = os.path.join(path, name_table)\n",
    "    if not os.path.exists(path_table):\n",
    "        return\n",
    "    if len(list_nom) == 0:\n",
    "        return\n",
    "    \n",
    "    with sqlite3.connect(path_table) as conn:\n",
    "        cursor = conn.cursor()\n",
    "\n",
    "    for i in range(len(list_nom)):\n",
    "        query = \"\"\"\n",
    "            INSERT INTO produits (nom, id_ref_produit, prix, stock)\n",
    "            SELECT\n",
    "                T.*\n",
    "            FROM\n",
    "                (SELECT '{}' nom, '{}' id_ref_produit, {} prix, {} stock) T\n",
    "                    LEFT JOIN\n",
    "                produits ON produits.nom = T.nom AND produits.id_ref_produit = T.id_ref_produit\n",
    "            WHERE\n",
    "                produits.nom IS null\n",
    "            \"\"\".format(list_nom[i], list_id_ref_produit[i], list_prix[i], list_stock[i])\n",
    "\n",
    "        cursor.execute(query)\n",
    "        conn.commit()\n",
    "\n",
    "    conn.close()\n",
    "    \n",
    "\n",
    "insert_items_to_produits(\"table.sqlite\", path_datasets,\n",
    "                        df_produits['Nom'].values.tolist(),\n",
    "                        df_produits['ID Référence produit'].values.tolist(),\n",
    "                        df_produits['Prix'].values.tolist(),\n",
    "                        df_produits['Stock'].values.tolist())"
   ]
  },
  {
   "cell_type": "markdown",
   "id": "e79030ee",
   "metadata": {},
   "source": [
    "# Add new items (ventes)"
   ]
  },
  {
   "cell_type": "code",
   "execution_count": 115,
   "id": "2e1ee87d",
   "metadata": {},
   "outputs": [],
   "source": [
    "def insert_items_to_ventes(name_table, path=\"\", list_date=[], list_id_ref_produit=[], list_quantite=[], list_id_magasin=[]):\n",
    "    path_table = os.path.join(path, name_table)\n",
    "    if not os.path.exists(path_table):\n",
    "        return\n",
    "    if len(list_date) == 0:\n",
    "        return\n",
    "    \n",
    "    with sqlite3.connect(path_table) as conn:\n",
    "        cursor = conn.cursor()\n",
    "\n",
    "    for i in range(len(list_date)):\n",
    "        query = \"\"\"\n",
    "            INSERT INTO ventes (date, id_ref_produit, quantite, id_magasin)\n",
    "            SELECT\n",
    "                T.*\n",
    "            FROM\n",
    "                (SELECT '{}' date, '{}' id_ref_produit, {} quantite, {} id_magasin) T\n",
    "                    LEFT JOIN\n",
    "                ventes ON ventes.date = T.date AND ventes.id_ref_produit = T.id_ref_produit AND ventes.id_magasin = T.id_magasin\n",
    "            WHERE\n",
    "                ventes.date IS null\n",
    "            \"\"\".format(list_date[i], list_id_ref_produit[i], list_quantite[i], list_id_magasin[i])\n",
    "\n",
    "        cursor.execute(query)\n",
    "        conn.commit()\n",
    "\n",
    "    conn.close()\n",
    "\n",
    "    \n",
    "insert_items_to_ventes(\"table.sqlite\", path_datasets,\n",
    "                        df_ventes['Date'].values.tolist(),\n",
    "                        df_ventes['ID Référence produit'].values.tolist(),\n",
    "                        df_ventes['Quantité'].values.tolist(),\n",
    "                        df_ventes['ID Magasin'].values.tolist())"
   ]
  },
  {
   "cell_type": "markdown",
   "id": "8c38d97b",
   "metadata": {},
   "source": [
    "# Show DB"
   ]
  },
  {
   "cell_type": "code",
   "execution_count": 122,
   "id": "0bb2e8af",
   "metadata": {},
   "outputs": [
    {
     "name": "stdout",
     "output_type": "stream",
     "text": [
      "\n",
      "magasins:\n",
      "[(1, 1, 'Paris', 10), (2, 2, 'Marseille', 5), (3, 3, 'Lyon', 8), (4, 4, 'Bordeaux', 12), (5, 5, 'Lille', 6), (6, 6, 'Nantes', 7), (7, 7, 'Strasbourg', 9)]\n",
      "\n",
      "produits:\n",
      "[(1, 'Produit A', 'REF001', 49.99, 100), (2, 'Produit B', 'REF002', 19.99, 50), (3, 'Produit C', 'REF003', 29.99, 75), (4, 'Produit D', 'REF004', 79.99, 120), (5, 'Produit E', 'REF005', 39.99, 80)]\n",
      "\n",
      "ventes:\n",
      "[(1, '2023-05-27', 'REF001', 5, 1), (2, '2023-05-28', 'REF002', 3, 2), (3, '2023-05-29', 'REF003', 2, 1), (4, '2023-05-30', 'REF004', 4, 3), (5, '2023-05-31', 'REF005', 7, 2), (6, '2023-06-01', 'REF001', 3, 4), (7, '2023-06-02', 'REF002', 6, 1), (8, '2023-06-03', 'REF003', 1, 5), (9, '2023-06-04', 'REF004', 2, 3), (10, '2023-06-05', 'REF005', 5, 6), (11, '2023-06-06', 'REF001', 4, 7), (12, '2023-06-07', 'REF002', 3, 2), (13, '2023-06-08', 'REF003', 6, 4), (14, '2023-06-09', 'REF004', 2, 1), (15, '2023-06-10', 'REF005', 8, 3), (16, '2023-06-11', 'REF001', 3, 2), (17, '2023-06-12', 'REF002', 5, 4), (18, '2023-06-13', 'REF003', 2, 5), (19, '2023-06-14', 'REF004', 4, 7), (20, '2023-06-15', 'REF005', 6, 6), (21, '2023-06-16', 'REF001', 3, 1), (22, '2023-06-17', 'REF002', 7, 2), (23, '2023-06-18', 'REF003', 2, 3), (24, '2023-06-19', 'REF004', 5, 4), (25, '2023-06-20', 'REF005', 4, 5), (26, '2023-06-21', 'REF001', 6, 6), (27, '2023-06-22', 'REF002', 3, 7), (28, '2023-06-23', 'REF003', 2, 1), (29, '2023-06-24', 'REF004', 4, 2), (30, '2023-06-25', 'REF005', 5, 3)]\n"
     ]
    }
   ],
   "source": [
    "def show_table(name_table, path=\"\"):\n",
    "    path_table = os.path.join(path, name_table)\n",
    "    if not os.path.exists(path_table):\n",
    "        return\n",
    "    \n",
    "    with sqlite3.connect(path_table) as conn:\n",
    "        cursor = conn.cursor()\n",
    "    \n",
    "    cursor.execute(\"SELECT * FROM magasins\")\n",
    "    rows = cursor.fetchall()\n",
    "    print(\"\\nmagasins:\")\n",
    "    print(rows)\n",
    "    \n",
    "    cursor.execute(\"SELECT * FROM produits\")\n",
    "    rows = cursor.fetchall()\n",
    "    print(\"\\nproduits:\")\n",
    "    print(rows)\n",
    "    \n",
    "    cursor.execute(\"SELECT * FROM ventes\")\n",
    "    rows = cursor.fetchall()\n",
    "    print(\"\\nventes:\")\n",
    "    print(rows)\n",
    "    \n",
    "    conn.close()\n",
    "    \n",
    "show_table(\"table.sqlite\", path_datasets)"
   ]
  }
 ],
 "metadata": {
  "kernelspec": {
   "display_name": "Python 3 (ipykernel)",
   "language": "python",
   "name": "python3"
  },
  "language_info": {
   "codemirror_mode": {
    "name": "ipython",
    "version": 3
   },
   "file_extension": ".py",
   "mimetype": "text/x-python",
   "name": "python",
   "nbconvert_exporter": "python",
   "pygments_lexer": "ipython3",
   "version": "3.10.6"
  },
  "toc": {
   "base_numbering": 1,
   "nav_menu": {},
   "number_sections": true,
   "sideBar": true,
   "skip_h1_title": false,
   "title_cell": "Table of Contents",
   "title_sidebar": "Contents",
   "toc_cell": false,
   "toc_position": {},
   "toc_section_display": true,
   "toc_window_display": false
  }
 },
 "nbformat": 4,
 "nbformat_minor": 5
}
