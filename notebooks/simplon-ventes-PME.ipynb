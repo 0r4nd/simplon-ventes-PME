{
 "cells": [
  {
   "cell_type": "markdown",
   "id": "5d4f1d75",
   "metadata": {},
   "source": [
    "# Imports"
   ]
  },
  {
   "cell_type": "code",
   "execution_count": 7,
   "id": "67e70b63",
   "metadata": {},
   "outputs": [],
   "source": [
    "# misc\n",
    "import os, time, sys\n",
    "import math, random\n",
    "from timeit import default_timer as timer\n",
    "\n",
    "# load/save files\n",
    "import requests\n",
    "import zipfile\n",
    "import csv, json, sqlite3\n",
    "import joblib\n",
    "import h5py\n",
    "\n",
    "# plot\n",
    "import matplotlib.pyplot as plt\n",
    "from matplotlib.patches import Rectangle\n",
    "from PIL import Image\n",
    "\n",
    "# datascience libs\n",
    "import numpy as np\n",
    "import pandas as pd\n",
    "\n",
    "try: # python\n",
    "    path_ = os.path.join(os.path.dirname(os.path.abspath(__file__)), \"..\")\n",
    "except NameError: # jupyter notebook\n",
    "    path_ = os.path.dirname(os.getcwd())"
   ]
  },
  {
   "cell_type": "markdown",
   "id": "9708e24c",
   "metadata": {},
   "source": [
    "# Load CSV into DataFrame"
   ]
  },
  {
   "cell_type": "code",
   "execution_count": 5,
   "id": "52b71692",
   "metadata": {},
   "outputs": [],
   "source": [
    "#df = pd.DataFrame(bbox, columns=['x1','y1','x2','y2'])\n",
    "#df.to_csv(file_path, index=False)\n",
    "path_datasets = os.path.join(path_, \"datasets\")\n",
    "df_magasins = pd.read_csv(os.path.join(path_datasets, \"magasins.csv\"))\n",
    "df_produits = pd.read_csv(os.path.join(path_datasets, \"produits.csv\"))\n",
    "df_ventes = pd.read_csv(os.path.join(path_datasets, \"ventes.csv\"))\n"
   ]
  },
  {
   "cell_type": "code",
   "execution_count": 11,
   "id": "d15c1d87",
   "metadata": {},
   "outputs": [
    {
     "data": {
      "text/html": [
       "<div>\n",
       "<style scoped>\n",
       "    .dataframe tbody tr th:only-of-type {\n",
       "        vertical-align: middle;\n",
       "    }\n",
       "\n",
       "    .dataframe tbody tr th {\n",
       "        vertical-align: top;\n",
       "    }\n",
       "\n",
       "    .dataframe thead th {\n",
       "        text-align: right;\n",
       "    }\n",
       "</style>\n",
       "<table border=\"1\" class=\"dataframe\">\n",
       "  <thead>\n",
       "    <tr style=\"text-align: right;\">\n",
       "      <th></th>\n",
       "      <th>ID Magasin</th>\n",
       "      <th>Ville</th>\n",
       "      <th>Nombre de salariés</th>\n",
       "    </tr>\n",
       "  </thead>\n",
       "  <tbody>\n",
       "    <tr>\n",
       "      <th>0</th>\n",
       "      <td>1</td>\n",
       "      <td>Paris</td>\n",
       "      <td>10</td>\n",
       "    </tr>\n",
       "    <tr>\n",
       "      <th>1</th>\n",
       "      <td>2</td>\n",
       "      <td>Marseille</td>\n",
       "      <td>5</td>\n",
       "    </tr>\n",
       "    <tr>\n",
       "      <th>2</th>\n",
       "      <td>3</td>\n",
       "      <td>Lyon</td>\n",
       "      <td>8</td>\n",
       "    </tr>\n",
       "  </tbody>\n",
       "</table>\n",
       "</div>"
      ],
      "text/plain": [
       "   ID Magasin      Ville  Nombre de salariés\n",
       "0           1      Paris                  10\n",
       "1           2  Marseille                   5\n",
       "2           3       Lyon                   8"
      ]
     },
     "metadata": {},
     "output_type": "display_data"
    },
    {
     "data": {
      "text/html": [
       "<div>\n",
       "<style scoped>\n",
       "    .dataframe tbody tr th:only-of-type {\n",
       "        vertical-align: middle;\n",
       "    }\n",
       "\n",
       "    .dataframe tbody tr th {\n",
       "        vertical-align: top;\n",
       "    }\n",
       "\n",
       "    .dataframe thead th {\n",
       "        text-align: right;\n",
       "    }\n",
       "</style>\n",
       "<table border=\"1\" class=\"dataframe\">\n",
       "  <thead>\n",
       "    <tr style=\"text-align: right;\">\n",
       "      <th></th>\n",
       "      <th>Nom</th>\n",
       "      <th>ID Référence produit</th>\n",
       "      <th>Prix</th>\n",
       "      <th>Stock</th>\n",
       "    </tr>\n",
       "  </thead>\n",
       "  <tbody>\n",
       "    <tr>\n",
       "      <th>0</th>\n",
       "      <td>Produit A</td>\n",
       "      <td>REF001</td>\n",
       "      <td>49.99</td>\n",
       "      <td>100</td>\n",
       "    </tr>\n",
       "    <tr>\n",
       "      <th>1</th>\n",
       "      <td>Produit B</td>\n",
       "      <td>REF002</td>\n",
       "      <td>19.99</td>\n",
       "      <td>50</td>\n",
       "    </tr>\n",
       "    <tr>\n",
       "      <th>2</th>\n",
       "      <td>Produit C</td>\n",
       "      <td>REF003</td>\n",
       "      <td>29.99</td>\n",
       "      <td>75</td>\n",
       "    </tr>\n",
       "  </tbody>\n",
       "</table>\n",
       "</div>"
      ],
      "text/plain": [
       "         Nom ID Référence produit   Prix  Stock\n",
       "0  Produit A               REF001  49.99    100\n",
       "1  Produit B               REF002  19.99     50\n",
       "2  Produit C               REF003  29.99     75"
      ]
     },
     "metadata": {},
     "output_type": "display_data"
    },
    {
     "data": {
      "text/html": [
       "<div>\n",
       "<style scoped>\n",
       "    .dataframe tbody tr th:only-of-type {\n",
       "        vertical-align: middle;\n",
       "    }\n",
       "\n",
       "    .dataframe tbody tr th {\n",
       "        vertical-align: top;\n",
       "    }\n",
       "\n",
       "    .dataframe thead th {\n",
       "        text-align: right;\n",
       "    }\n",
       "</style>\n",
       "<table border=\"1\" class=\"dataframe\">\n",
       "  <thead>\n",
       "    <tr style=\"text-align: right;\">\n",
       "      <th></th>\n",
       "      <th>Date</th>\n",
       "      <th>ID Référence produit</th>\n",
       "      <th>Quantité</th>\n",
       "      <th>ID Magasin</th>\n",
       "    </tr>\n",
       "  </thead>\n",
       "  <tbody>\n",
       "    <tr>\n",
       "      <th>0</th>\n",
       "      <td>2023-05-27</td>\n",
       "      <td>REF001</td>\n",
       "      <td>5</td>\n",
       "      <td>1</td>\n",
       "    </tr>\n",
       "    <tr>\n",
       "      <th>1</th>\n",
       "      <td>2023-05-28</td>\n",
       "      <td>REF002</td>\n",
       "      <td>3</td>\n",
       "      <td>2</td>\n",
       "    </tr>\n",
       "    <tr>\n",
       "      <th>2</th>\n",
       "      <td>2023-05-29</td>\n",
       "      <td>REF003</td>\n",
       "      <td>2</td>\n",
       "      <td>1</td>\n",
       "    </tr>\n",
       "  </tbody>\n",
       "</table>\n",
       "</div>"
      ],
      "text/plain": [
       "         Date ID Référence produit  Quantité  ID Magasin\n",
       "0  2023-05-27               REF001         5           1\n",
       "1  2023-05-28               REF002         3           2\n",
       "2  2023-05-29               REF003         2           1"
      ]
     },
     "metadata": {},
     "output_type": "display_data"
    }
   ],
   "source": [
    "display(df_magasins.head(3))\n",
    "display(df_produits.head(3))\n",
    "display(df_ventes.head(3))"
   ]
  },
  {
   "cell_type": "markdown",
   "id": "d61b4a5e",
   "metadata": {},
   "source": [
    "# Create DB"
   ]
  },
  {
   "cell_type": "code",
   "execution_count": 16,
   "id": "d8e7591c",
   "metadata": {},
   "outputs": [],
   "source": [
    "\n",
    "def create_table(name_table, path):\n",
    "    path_table = os.path.join(path, name_table)\n",
    "    if os.path.exists(path_table):\n",
    "        return\n",
    "    \n",
    "    with sqlite3.connect(path_table) as conn:\n",
    "        cursor = conn.cursor()\n",
    "    \n",
    "    # magasins\n",
    "    cursor.execute(\n",
    "        \"CREATE TABLE magasins (id INTEGER PRIMARY KEY AUTOINCREMENT, nom_ville TEXT, nombre_salaries INT)\")\n",
    "    # produits\n",
    "    cursor.execute(\n",
    "        \"CREATE TABLE produits (id INTEGER PRIMARY KEY AUTOINCREMENT, id_ref_produit TEXT, nom TEXT, prix FLOAT, stock INT)\")\n",
    "    # ventes\n",
    "    cursor.execute(\n",
    "        \"CREATE TABLE ventes (id INTEGER PRIMARY KEY AUTOINCREMENT, date DATE, id_ref_produit TEXT, quantite INT, id_magasin INT)\")\n",
    "\n",
    "    conn.commit()\n",
    "    conn.close()\n",
    "\n",
    "\n",
    "create_table(\"table.sqlite\", path_datasets)"
   ]
  },
  {
   "cell_type": "code",
   "execution_count": null,
   "id": "055de211",
   "metadata": {},
   "outputs": [],
   "source": []
  }
 ],
 "metadata": {
  "kernelspec": {
   "display_name": "Python 3 (ipykernel)",
   "language": "python",
   "name": "python3"
  },
  "language_info": {
   "codemirror_mode": {
    "name": "ipython",
    "version": 3
   },
   "file_extension": ".py",
   "mimetype": "text/x-python",
   "name": "python",
   "nbconvert_exporter": "python",
   "pygments_lexer": "ipython3",
   "version": "3.10.6"
  },
  "toc": {
   "base_numbering": 1,
   "nav_menu": {},
   "number_sections": true,
   "sideBar": true,
   "skip_h1_title": false,
   "title_cell": "Table of Contents",
   "title_sidebar": "Contents",
   "toc_cell": false,
   "toc_position": {},
   "toc_section_display": true,
   "toc_window_display": false
  }
 },
 "nbformat": 4,
 "nbformat_minor": 5
}
